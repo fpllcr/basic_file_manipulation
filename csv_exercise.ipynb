{
 "cells": [
  {
   "cell_type": "markdown",
   "metadata": {},
   "source": [
    "In this exercise, we count the total number of players of each year, saving this information in years_PitchingPost.csv. The original dataset is given in PitchingPost.csv"
   ]
  },
  {
   "cell_type": "code",
   "execution_count": 1,
   "metadata": {},
   "outputs": [],
   "source": [
    "import csv\n",
    "import numpy as np\n",
    "\n",
    "file = 'PitchingPost.csv'\n",
    "fileObj = open(file)\n",
    "readerObj = csv.reader(fileObj)\n",
    "\n",
    "players = list(readerObj)\n",
    "np_players = np.array(players)\n",
    "\n",
    "np_years = np_players[1:, 1]\n",
    "np_years = np_years.astype(int)\n",
    "max_year = int(max(np_years))\n",
    "min_year = int(min(np_years))\n",
    "\n",
    "fileObj.close()\n",
    "\n",
    "data = {}\n",
    "\n",
    "for i in range(min_year, max_year + 1): # set all year frequencies as 0\n",
    "    data[i] = 0\n",
    "    \n",
    "for i in np_years:\n",
    "    data[i] = data[i] + 1\n",
    "    \n",
    "fileObj = open('years_' + file, 'w')\n",
    "writerObj = csv.writer(fileObj)\n",
    "\n",
    "for key, val in data.items():\n",
    "    writerObj.writerow([key, val])\n",
    "    \n",
    "fileObj.close()"
   ]
  }
 ],
 "metadata": {
  "kernelspec": {
   "display_name": "Python 3",
   "language": "python",
   "name": "python3"
  },
  "language_info": {
   "codemirror_mode": {
    "name": "ipython",
    "version": 3
   },
   "file_extension": ".py",
   "mimetype": "text/x-python",
   "name": "python",
   "nbconvert_exporter": "python",
   "pygments_lexer": "ipython3",
   "version": "3.6.5"
  }
 },
 "nbformat": 4,
 "nbformat_minor": 2
}
