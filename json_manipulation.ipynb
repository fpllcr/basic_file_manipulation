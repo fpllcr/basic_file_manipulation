{
 "cells": [
  {
   "cell_type": "markdown",
   "metadata": {},
   "source": [
    "Basic handling of JSON files\n",
    "=======================\n",
    "\n",
    "Let's create a program which is able to:\n",
    "* Read a city introduced by the user\n",
    "* Call the geocodification API of Google\n",
    "* Extract information from the JSON file"
   ]
  },
  {
   "cell_type": "code",
   "execution_count": 1,
   "metadata": {
    "scrolled": true
   },
   "outputs": [
    {
     "name": "stdout",
     "output_type": "stream",
     "text": [
      "Enter a city: Springfield\n",
      "Recovering http://maps.googleapis.com/maps/api/geocode/json?sensor=false&address=Springfield\n",
      "12691 characters recovered\n",
      "lat: 39.78172130000001 lng: -89.6501481\n",
      "Springfield, IL, USA\n",
      "Enter a city: Greenwich\n",
      "Recovering http://maps.googleapis.com/maps/api/geocode/json?sensor=false&address=Greenwich\n",
      "1781 characters recovered\n",
      "lat: 51.48257659999999 lng: -0.0076589\n",
      "Greenwich, London SE10 9NN, UK\n",
      "Enter a city: \n"
     ]
    }
   ],
   "source": [
    "import urllib.parse\n",
    "import urllib.request\n",
    "import json\n",
    "\n",
    "serviceurl = 'http://maps.googleapis.com/maps/api/geocode/json?'\n",
    "\n",
    "while True:\n",
    "    \n",
    "    address = input('Enter a city: ')\n",
    "    \n",
    "    if len(address) < 1: # just press enter to exit the program\n",
    "        break\n",
    "\n",
    "    url = serviceurl + urllib.parse.urlencode({'sensor': 'false', 'address': address})\n",
    "    print('Recovering', url)\n",
    "    \n",
    "    uh = urllib.request.urlopen(url)\n",
    "    data = uh.read()\n",
    "    print(len(data), 'characters recovered')\n",
    "    \n",
    "    try:\n",
    "        js = json.loads(data) # creates a dict with the JSON object's information\n",
    "    except:\n",
    "        js = None\n",
    "        \n",
    "    if 'status' not in js or js['status'] != 'OK':\n",
    "        print(\"Recovering failed\")\n",
    "        print(data)\n",
    "        continue\n",
    "    \n",
    "    #print(json.dumps(js, indent = 4)) # this will print all the information\n",
    "    \n",
    "    lat = js['results'][0]['geometry']['location']['lat']\n",
    "    lng = js['results'][0]['geometry']['location']['lng']\n",
    "    \n",
    "    print('lat:', lat, 'lng:', lng)\n",
    "    \n",
    "    location = js['results'][0]['formatted_address']\n",
    "    print(location)"
   ]
  }
 ],
 "metadata": {
  "kernelspec": {
   "display_name": "Python 3",
   "language": "python",
   "name": "python3"
  },
  "language_info": {
   "codemirror_mode": {
    "name": "ipython",
    "version": 3
   },
   "file_extension": ".py",
   "mimetype": "text/x-python",
   "name": "python",
   "nbconvert_exporter": "python",
   "pygments_lexer": "ipython3",
   "version": "3.6.5"
  }
 },
 "nbformat": 4,
 "nbformat_minor": 2
}
