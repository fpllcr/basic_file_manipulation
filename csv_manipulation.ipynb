{
 "cells": [
  {
   "cell_type": "markdown",
   "metadata": {},
   "source": [
    "Basic handling of CSV files\n",
    "=======================\n",
    "\n",
    "Let's create a program which is able to:\n",
    "* Find all the CSV files in the current directory\n",
    "* Read the content of each file\n",
    "* Copy each file content except the first line in other CSV files"
   ]
  },
  {
   "cell_type": "code",
   "execution_count": ,
   "metadata": {},
   "outputs": [
    {
     "name": "stdout",
     "output_type": "stream",
     "text": [
      "Reading test1.csv ...\n",
      "Reading test2.csv ...\n",
      "Done!\n"
     ]
    }
   ],
   "source": [
    "import os, csv\n",
    "\n",
    "os.makedirs('Copies', exist_ok = True)\n",
    "\n",
    "for file in os.listdir('.'):\n",
    "    \n",
    "    if file.endswith('.csv'):\n",
    "        \n",
    "        print('Reading', file, '...')\n",
    "        \n",
    "        rows = []\n",
    "        \n",
    "        # first, we open the file to read it and store its content in rows\n",
    "        fileObj = open(file)\n",
    "        readerObj = csv.reader(fileObj)\n",
    "        \n",
    "        for row in readerObj:\n",
    "            if readerObj.line_num != 1: # jump the first line\n",
    "                rows.append(row)\n",
    "        \n",
    "        fileObj.close()\n",
    "        \n",
    "        # then, we open the copy file and write the content of rows on it\n",
    "        \n",
    "        fileObj = open(os.path.join('Copies', file), 'w', newline = '')\n",
    "        \n",
    "        writerObj = csv.writer(fileObj)\n",
    "        \n",
    "        for row in rows:\n",
    "            \n",
    "            writerObj.writerow(row)\n",
    "            \n",
    "        fileObj.close()\n",
    "        \n",
    "\n",
    "print('Done!')"
   ]
  },
  {
   "cell_type": "code",
   "execution_count": null,
   "metadata": {},
   "outputs": [],
   "source": []
  }
 ],
 "metadata": {
  "kernelspec": {
   "display_name": "Python 3",
   "language": "python",
   "name": "python3"
  },
  "language_info": {
   "codemirror_mode": {
    "name": "ipython",
    "version": 3
   },
   "file_extension": ".py",
   "mimetype": "text/x-python",
   "name": "python",
   "nbconvert_exporter": "python",
   "pygments_lexer": "ipython3",
   "version": "3.6.5"
  }
 },
 "nbformat": 4,
 "nbformat_minor": 2
}
