{
 "cells": [
  {
   "cell_type": "markdown",
   "metadata": {},
   "source": [
    "Calculate frequencies of player ID's and sort the new file by name"
   ]
  },
  {
   "cell_type": "code",
   "execution_count": 4,
   "metadata": {},
   "outputs": [],
   "source": [
    "import csv, collections\n",
    "import numpy as np\n",
    "\n",
    "file = 'PitchingPost.csv'\n",
    "fileObj = open(file)\n",
    "readerObj = csv.reader(fileObj)\n",
    "\n",
    "players = list(readerObj)\n",
    "np_players = np.array(players)\n",
    "\n",
    "np_ids = np_players[1:, 0]\n",
    "\n",
    "fileObj.close()\n",
    "\n",
    "data = {}\n",
    "\n",
    "for i in np_ids: # set all frequencies to 0\n",
    "    data[i] = 0\n",
    "    \n",
    "for i in np_ids:\n",
    "    data[i] = data[i] + 1\n",
    "\n",
    "sorted_data = collections.OrderedDict(sorted(data.items())) # order dictionary\n",
    "\n",
    "fileObj = open('players_' + file, 'w')\n",
    "writerObj = csv.writer(fileObj)\n",
    "\n",
    "for key, val in sorted_data.items():\n",
    "    writerObj.writerow([key, val])\n",
    "    \n",
    "fileObj.close()"
   ]
  },
  {
   "cell_type": "code",
   "execution_count": null,
   "metadata": {},
   "outputs": [],
   "source": []
  }
 ],
 "metadata": {
  "kernelspec": {
   "display_name": "Python 3",
   "language": "python",
   "name": "python3"
  },
  "language_info": {
   "codemirror_mode": {
    "name": "ipython",
    "version": 3
   },
   "file_extension": ".py",
   "mimetype": "text/x-python",
   "name": "python",
   "nbconvert_exporter": "python",
   "pygments_lexer": "ipython3",
   "version": "3.6.5"
  }
 },
 "nbformat": 4,
 "nbformat_minor": 2
}
